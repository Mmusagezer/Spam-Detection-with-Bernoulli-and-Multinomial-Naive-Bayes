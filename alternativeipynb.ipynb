{
  "cells": [
    {
      "cell_type": "code",
      "execution_count": 1,
      "metadata": {
        "id": "dxd93BrZTR33",
        "colab": {
          "base_uri": "https://localhost:8080/"
        },
        "outputId": "63fa72ac-e483-47b4-9d69-fe4cd2075c72"
      },
      "outputs": [
        {
          "output_type": "stream",
          "name": "stdout",
          "text": [
            "Mounted at /content/drive/\n"
          ]
        }
      ],
      "source": [
        "from google.colab import drive\n",
        "drive.mount(\"/content/drive/\")"
      ]
    },
    {
      "cell_type": "code",
      "execution_count": 2,
      "metadata": {
        "id": "Ntq2EXRKU3UE"
      },
      "outputs": [],
      "source": [
        "import pandas as pd\n",
        "import numpy as np"
      ]
    },
    {
      "cell_type": "code",
      "execution_count": 3,
      "metadata": {
        "id": "igwuznZUTksg"
      },
      "outputs": [],
      "source": [
        "x_train = \"/content/drive/MyDrive/CS464_Spring_2023_HW1_data/x_train.csv\"\n",
        "y_train = \"/content/drive/MyDrive/CS464_Spring_2023_HW1_data/y_train.csv\"\n",
        "x_test = \"/content/drive/MyDrive/CS464_Spring_2023_HW1_data/x_test.csv\"\n",
        "y_test = \"/content/drive/MyDrive/CS464_Spring_2023_HW1_data/y_test.csv\""
      ]
    },
    {
      "cell_type": "code",
      "execution_count": 4,
      "metadata": {
        "id": "OZzFDmY_2aAj"
      },
      "outputs": [],
      "source": [
        "y_train_dataframe = pd.read_csv(y_train, header = 0)\n",
        "x_train_dataframe = pd.read_csv(x_train, header=0)\n",
        "x_test_dataframe = pd.read_csv(x_test, header=0)\n",
        "y_test_dataframe = pd.read_csv(y_test, header=0)"
      ]
    },
    {
      "cell_type": "code",
      "execution_count": 5,
      "metadata": {
        "id": "4HS6NvHvVUVf",
        "colab": {
          "base_uri": "https://localhost:8080/",
          "height": 235
        },
        "outputId": "b7f0192a-1235-415c-cf09-4d1fa73c58ff"
      },
      "outputs": [
        {
          "output_type": "execute_result",
          "data": {
            "text/plain": [
              "   the  to  ect  and  for  of    a  you  hou  in  ...  enhancements  connevey  \\\n",
              "0    2   5    2    0    2   0   24    1    0   4  ...             0         0   \n",
              "1   18  15    2    1    4  14  120    5    0  15  ...             0         0   \n",
              "2    2   0    1    1    2   2   12    2    0   3  ...             0         0   \n",
              "3   26  31    2   13   12  23  222    1    0  65  ...             0         0   \n",
              "4    1   1    1    2    0   0   10    0    0   1  ...             0         0   \n",
              "\n",
              "   jay  valued  lay  infrastructure  military  allowing  ff  dry  \n",
              "0    0       0    0               0         0         0   0    0  \n",
              "1    0       0    0               0         0         0   2    0  \n",
              "2    0       0    0               0         0         0   1    0  \n",
              "3    0       0    5               0         0         0   0    0  \n",
              "4    0       0    0               0         0         0   0    0  \n",
              "\n",
              "[5 rows x 3000 columns]"
            ],
            "text/html": [
              "\n",
              "  <div id=\"df-33a8bbd7-1580-4773-ab1f-0bd55eb13660\">\n",
              "    <div class=\"colab-df-container\">\n",
              "      <div>\n",
              "<style scoped>\n",
              "    .dataframe tbody tr th:only-of-type {\n",
              "        vertical-align: middle;\n",
              "    }\n",
              "\n",
              "    .dataframe tbody tr th {\n",
              "        vertical-align: top;\n",
              "    }\n",
              "\n",
              "    .dataframe thead th {\n",
              "        text-align: right;\n",
              "    }\n",
              "</style>\n",
              "<table border=\"1\" class=\"dataframe\">\n",
              "  <thead>\n",
              "    <tr style=\"text-align: right;\">\n",
              "      <th></th>\n",
              "      <th>the</th>\n",
              "      <th>to</th>\n",
              "      <th>ect</th>\n",
              "      <th>and</th>\n",
              "      <th>for</th>\n",
              "      <th>of</th>\n",
              "      <th>a</th>\n",
              "      <th>you</th>\n",
              "      <th>hou</th>\n",
              "      <th>in</th>\n",
              "      <th>...</th>\n",
              "      <th>enhancements</th>\n",
              "      <th>connevey</th>\n",
              "      <th>jay</th>\n",
              "      <th>valued</th>\n",
              "      <th>lay</th>\n",
              "      <th>infrastructure</th>\n",
              "      <th>military</th>\n",
              "      <th>allowing</th>\n",
              "      <th>ff</th>\n",
              "      <th>dry</th>\n",
              "    </tr>\n",
              "  </thead>\n",
              "  <tbody>\n",
              "    <tr>\n",
              "      <th>0</th>\n",
              "      <td>2</td>\n",
              "      <td>5</td>\n",
              "      <td>2</td>\n",
              "      <td>0</td>\n",
              "      <td>2</td>\n",
              "      <td>0</td>\n",
              "      <td>24</td>\n",
              "      <td>1</td>\n",
              "      <td>0</td>\n",
              "      <td>4</td>\n",
              "      <td>...</td>\n",
              "      <td>0</td>\n",
              "      <td>0</td>\n",
              "      <td>0</td>\n",
              "      <td>0</td>\n",
              "      <td>0</td>\n",
              "      <td>0</td>\n",
              "      <td>0</td>\n",
              "      <td>0</td>\n",
              "      <td>0</td>\n",
              "      <td>0</td>\n",
              "    </tr>\n",
              "    <tr>\n",
              "      <th>1</th>\n",
              "      <td>18</td>\n",
              "      <td>15</td>\n",
              "      <td>2</td>\n",
              "      <td>1</td>\n",
              "      <td>4</td>\n",
              "      <td>14</td>\n",
              "      <td>120</td>\n",
              "      <td>5</td>\n",
              "      <td>0</td>\n",
              "      <td>15</td>\n",
              "      <td>...</td>\n",
              "      <td>0</td>\n",
              "      <td>0</td>\n",
              "      <td>0</td>\n",
              "      <td>0</td>\n",
              "      <td>0</td>\n",
              "      <td>0</td>\n",
              "      <td>0</td>\n",
              "      <td>0</td>\n",
              "      <td>2</td>\n",
              "      <td>0</td>\n",
              "    </tr>\n",
              "    <tr>\n",
              "      <th>2</th>\n",
              "      <td>2</td>\n",
              "      <td>0</td>\n",
              "      <td>1</td>\n",
              "      <td>1</td>\n",
              "      <td>2</td>\n",
              "      <td>2</td>\n",
              "      <td>12</td>\n",
              "      <td>2</td>\n",
              "      <td>0</td>\n",
              "      <td>3</td>\n",
              "      <td>...</td>\n",
              "      <td>0</td>\n",
              "      <td>0</td>\n",
              "      <td>0</td>\n",
              "      <td>0</td>\n",
              "      <td>0</td>\n",
              "      <td>0</td>\n",
              "      <td>0</td>\n",
              "      <td>0</td>\n",
              "      <td>1</td>\n",
              "      <td>0</td>\n",
              "    </tr>\n",
              "    <tr>\n",
              "      <th>3</th>\n",
              "      <td>26</td>\n",
              "      <td>31</td>\n",
              "      <td>2</td>\n",
              "      <td>13</td>\n",
              "      <td>12</td>\n",
              "      <td>23</td>\n",
              "      <td>222</td>\n",
              "      <td>1</td>\n",
              "      <td>0</td>\n",
              "      <td>65</td>\n",
              "      <td>...</td>\n",
              "      <td>0</td>\n",
              "      <td>0</td>\n",
              "      <td>0</td>\n",
              "      <td>0</td>\n",
              "      <td>5</td>\n",
              "      <td>0</td>\n",
              "      <td>0</td>\n",
              "      <td>0</td>\n",
              "      <td>0</td>\n",
              "      <td>0</td>\n",
              "    </tr>\n",
              "    <tr>\n",
              "      <th>4</th>\n",
              "      <td>1</td>\n",
              "      <td>1</td>\n",
              "      <td>1</td>\n",
              "      <td>2</td>\n",
              "      <td>0</td>\n",
              "      <td>0</td>\n",
              "      <td>10</td>\n",
              "      <td>0</td>\n",
              "      <td>0</td>\n",
              "      <td>1</td>\n",
              "      <td>...</td>\n",
              "      <td>0</td>\n",
              "      <td>0</td>\n",
              "      <td>0</td>\n",
              "      <td>0</td>\n",
              "      <td>0</td>\n",
              "      <td>0</td>\n",
              "      <td>0</td>\n",
              "      <td>0</td>\n",
              "      <td>0</td>\n",
              "      <td>0</td>\n",
              "    </tr>\n",
              "  </tbody>\n",
              "</table>\n",
              "<p>5 rows × 3000 columns</p>\n",
              "</div>\n",
              "      <button class=\"colab-df-convert\" onclick=\"convertToInteractive('df-33a8bbd7-1580-4773-ab1f-0bd55eb13660')\"\n",
              "              title=\"Convert this dataframe to an interactive table.\"\n",
              "              style=\"display:none;\">\n",
              "        \n",
              "  <svg xmlns=\"http://www.w3.org/2000/svg\" height=\"24px\"viewBox=\"0 0 24 24\"\n",
              "       width=\"24px\">\n",
              "    <path d=\"M0 0h24v24H0V0z\" fill=\"none\"/>\n",
              "    <path d=\"M18.56 5.44l.94 2.06.94-2.06 2.06-.94-2.06-.94-.94-2.06-.94 2.06-2.06.94zm-11 1L8.5 8.5l.94-2.06 2.06-.94-2.06-.94L8.5 2.5l-.94 2.06-2.06.94zm10 10l.94 2.06.94-2.06 2.06-.94-2.06-.94-.94-2.06-.94 2.06-2.06.94z\"/><path d=\"M17.41 7.96l-1.37-1.37c-.4-.4-.92-.59-1.43-.59-.52 0-1.04.2-1.43.59L10.3 9.45l-7.72 7.72c-.78.78-.78 2.05 0 2.83L4 21.41c.39.39.9.59 1.41.59.51 0 1.02-.2 1.41-.59l7.78-7.78 2.81-2.81c.8-.78.8-2.07 0-2.86zM5.41 20L4 18.59l7.72-7.72 1.47 1.35L5.41 20z\"/>\n",
              "  </svg>\n",
              "      </button>\n",
              "      \n",
              "  <style>\n",
              "    .colab-df-container {\n",
              "      display:flex;\n",
              "      flex-wrap:wrap;\n",
              "      gap: 12px;\n",
              "    }\n",
              "\n",
              "    .colab-df-convert {\n",
              "      background-color: #E8F0FE;\n",
              "      border: none;\n",
              "      border-radius: 50%;\n",
              "      cursor: pointer;\n",
              "      display: none;\n",
              "      fill: #1967D2;\n",
              "      height: 32px;\n",
              "      padding: 0 0 0 0;\n",
              "      width: 32px;\n",
              "    }\n",
              "\n",
              "    .colab-df-convert:hover {\n",
              "      background-color: #E2EBFA;\n",
              "      box-shadow: 0px 1px 2px rgba(60, 64, 67, 0.3), 0px 1px 3px 1px rgba(60, 64, 67, 0.15);\n",
              "      fill: #174EA6;\n",
              "    }\n",
              "\n",
              "    [theme=dark] .colab-df-convert {\n",
              "      background-color: #3B4455;\n",
              "      fill: #D2E3FC;\n",
              "    }\n",
              "\n",
              "    [theme=dark] .colab-df-convert:hover {\n",
              "      background-color: #434B5C;\n",
              "      box-shadow: 0px 1px 3px 1px rgba(0, 0, 0, 0.15);\n",
              "      filter: drop-shadow(0px 1px 2px rgba(0, 0, 0, 0.3));\n",
              "      fill: #FFFFFF;\n",
              "    }\n",
              "  </style>\n",
              "\n",
              "      <script>\n",
              "        const buttonEl =\n",
              "          document.querySelector('#df-33a8bbd7-1580-4773-ab1f-0bd55eb13660 button.colab-df-convert');\n",
              "        buttonEl.style.display =\n",
              "          google.colab.kernel.accessAllowed ? 'block' : 'none';\n",
              "\n",
              "        async function convertToInteractive(key) {\n",
              "          const element = document.querySelector('#df-33a8bbd7-1580-4773-ab1f-0bd55eb13660');\n",
              "          const dataTable =\n",
              "            await google.colab.kernel.invokeFunction('convertToInteractive',\n",
              "                                                     [key], {});\n",
              "          if (!dataTable) return;\n",
              "\n",
              "          const docLinkHtml = 'Like what you see? Visit the ' +\n",
              "            '<a target=\"_blank\" href=https://colab.research.google.com/notebooks/data_table.ipynb>data table notebook</a>'\n",
              "            + ' to learn more about interactive tables.';\n",
              "          element.innerHTML = '';\n",
              "          dataTable['output_type'] = 'display_data';\n",
              "          await google.colab.output.renderOutput(dataTable, element);\n",
              "          const docLink = document.createElement('div');\n",
              "          docLink.innerHTML = docLinkHtml;\n",
              "          element.appendChild(docLink);\n",
              "        }\n",
              "      </script>\n",
              "    </div>\n",
              "  </div>\n",
              "  "
            ]
          },
          "metadata": {},
          "execution_count": 5
        }
      ],
      "source": [
        "x_train_dataframe.head()"
      ]
    },
    {
      "cell_type": "code",
      "execution_count": 6,
      "metadata": {
        "id": "dnOX7ttXVk3_",
        "colab": {
          "base_uri": "https://localhost:8080/",
          "height": 206
        },
        "outputId": "476a5c2f-f360-40cc-a83e-0780724bdee9"
      },
      "outputs": [
        {
          "output_type": "execute_result",
          "data": {
            "text/plain": [
              "   Prediction\n",
              "0           0\n",
              "1           0\n",
              "2           1\n",
              "3           1\n",
              "4           1"
            ],
            "text/html": [
              "\n",
              "  <div id=\"df-4f40bad6-481d-4676-b2e6-af7bfda787e5\">\n",
              "    <div class=\"colab-df-container\">\n",
              "      <div>\n",
              "<style scoped>\n",
              "    .dataframe tbody tr th:only-of-type {\n",
              "        vertical-align: middle;\n",
              "    }\n",
              "\n",
              "    .dataframe tbody tr th {\n",
              "        vertical-align: top;\n",
              "    }\n",
              "\n",
              "    .dataframe thead th {\n",
              "        text-align: right;\n",
              "    }\n",
              "</style>\n",
              "<table border=\"1\" class=\"dataframe\">\n",
              "  <thead>\n",
              "    <tr style=\"text-align: right;\">\n",
              "      <th></th>\n",
              "      <th>Prediction</th>\n",
              "    </tr>\n",
              "  </thead>\n",
              "  <tbody>\n",
              "    <tr>\n",
              "      <th>0</th>\n",
              "      <td>0</td>\n",
              "    </tr>\n",
              "    <tr>\n",
              "      <th>1</th>\n",
              "      <td>0</td>\n",
              "    </tr>\n",
              "    <tr>\n",
              "      <th>2</th>\n",
              "      <td>1</td>\n",
              "    </tr>\n",
              "    <tr>\n",
              "      <th>3</th>\n",
              "      <td>1</td>\n",
              "    </tr>\n",
              "    <tr>\n",
              "      <th>4</th>\n",
              "      <td>1</td>\n",
              "    </tr>\n",
              "  </tbody>\n",
              "</table>\n",
              "</div>\n",
              "      <button class=\"colab-df-convert\" onclick=\"convertToInteractive('df-4f40bad6-481d-4676-b2e6-af7bfda787e5')\"\n",
              "              title=\"Convert this dataframe to an interactive table.\"\n",
              "              style=\"display:none;\">\n",
              "        \n",
              "  <svg xmlns=\"http://www.w3.org/2000/svg\" height=\"24px\"viewBox=\"0 0 24 24\"\n",
              "       width=\"24px\">\n",
              "    <path d=\"M0 0h24v24H0V0z\" fill=\"none\"/>\n",
              "    <path d=\"M18.56 5.44l.94 2.06.94-2.06 2.06-.94-2.06-.94-.94-2.06-.94 2.06-2.06.94zm-11 1L8.5 8.5l.94-2.06 2.06-.94-2.06-.94L8.5 2.5l-.94 2.06-2.06.94zm10 10l.94 2.06.94-2.06 2.06-.94-2.06-.94-.94-2.06-.94 2.06-2.06.94z\"/><path d=\"M17.41 7.96l-1.37-1.37c-.4-.4-.92-.59-1.43-.59-.52 0-1.04.2-1.43.59L10.3 9.45l-7.72 7.72c-.78.78-.78 2.05 0 2.83L4 21.41c.39.39.9.59 1.41.59.51 0 1.02-.2 1.41-.59l7.78-7.78 2.81-2.81c.8-.78.8-2.07 0-2.86zM5.41 20L4 18.59l7.72-7.72 1.47 1.35L5.41 20z\"/>\n",
              "  </svg>\n",
              "      </button>\n",
              "      \n",
              "  <style>\n",
              "    .colab-df-container {\n",
              "      display:flex;\n",
              "      flex-wrap:wrap;\n",
              "      gap: 12px;\n",
              "    }\n",
              "\n",
              "    .colab-df-convert {\n",
              "      background-color: #E8F0FE;\n",
              "      border: none;\n",
              "      border-radius: 50%;\n",
              "      cursor: pointer;\n",
              "      display: none;\n",
              "      fill: #1967D2;\n",
              "      height: 32px;\n",
              "      padding: 0 0 0 0;\n",
              "      width: 32px;\n",
              "    }\n",
              "\n",
              "    .colab-df-convert:hover {\n",
              "      background-color: #E2EBFA;\n",
              "      box-shadow: 0px 1px 2px rgba(60, 64, 67, 0.3), 0px 1px 3px 1px rgba(60, 64, 67, 0.15);\n",
              "      fill: #174EA6;\n",
              "    }\n",
              "\n",
              "    [theme=dark] .colab-df-convert {\n",
              "      background-color: #3B4455;\n",
              "      fill: #D2E3FC;\n",
              "    }\n",
              "\n",
              "    [theme=dark] .colab-df-convert:hover {\n",
              "      background-color: #434B5C;\n",
              "      box-shadow: 0px 1px 3px 1px rgba(0, 0, 0, 0.15);\n",
              "      filter: drop-shadow(0px 1px 2px rgba(0, 0, 0, 0.3));\n",
              "      fill: #FFFFFF;\n",
              "    }\n",
              "  </style>\n",
              "\n",
              "      <script>\n",
              "        const buttonEl =\n",
              "          document.querySelector('#df-4f40bad6-481d-4676-b2e6-af7bfda787e5 button.colab-df-convert');\n",
              "        buttonEl.style.display =\n",
              "          google.colab.kernel.accessAllowed ? 'block' : 'none';\n",
              "\n",
              "        async function convertToInteractive(key) {\n",
              "          const element = document.querySelector('#df-4f40bad6-481d-4676-b2e6-af7bfda787e5');\n",
              "          const dataTable =\n",
              "            await google.colab.kernel.invokeFunction('convertToInteractive',\n",
              "                                                     [key], {});\n",
              "          if (!dataTable) return;\n",
              "\n",
              "          const docLinkHtml = 'Like what you see? Visit the ' +\n",
              "            '<a target=\"_blank\" href=https://colab.research.google.com/notebooks/data_table.ipynb>data table notebook</a>'\n",
              "            + ' to learn more about interactive tables.';\n",
              "          element.innerHTML = '';\n",
              "          dataTable['output_type'] = 'display_data';\n",
              "          await google.colab.output.renderOutput(dataTable, element);\n",
              "          const docLink = document.createElement('div');\n",
              "          docLink.innerHTML = docLinkHtml;\n",
              "          element.appendChild(docLink);\n",
              "        }\n",
              "      </script>\n",
              "    </div>\n",
              "  </div>\n",
              "  "
            ]
          },
          "metadata": {},
          "execution_count": 6
        }
      ],
      "source": [
        "y_train_dataframe.head()"
      ]
    },
    {
      "cell_type": "code",
      "execution_count": 7,
      "metadata": {
        "id": "Xrr8jjEYZieM"
      },
      "outputs": [],
      "source": [
        "number_of_spam = 0\n",
        "number_of_ham = 0\n",
        "\n",
        "for i in y_train_dataframe[\"Prediction\"]:\n",
        "  if i == 1:\n",
        "    number_of_spam += 1\n",
        "  else :\n",
        "    number_of_ham+=1"
      ]
    },
    {
      "cell_type": "code",
      "source": [
        "print(number_of_spam)\n",
        "print(number_of_ham)\n",
        "print(100*(number_of_spam/(number_of_spam+number_of_ham)))"
      ],
      "metadata": {
        "colab": {
          "base_uri": "https://localhost:8080/"
        },
        "id": "tj4G2rou04pJ",
        "outputId": "bd622d10-05fc-4f85-b8b0-3a9ce3c4c1aa"
      },
      "execution_count": 9,
      "outputs": [
        {
          "output_type": "stream",
          "name": "stdout",
          "text": [
            "1183\n",
            "2954\n",
            "28.59560067681895\n"
          ]
        }
      ]
    },
    {
      "cell_type": "code",
      "execution_count": 17,
      "metadata": {
        "id": "pMTMzw4L6QTx"
      },
      "outputs": [],
      "source": [
        "def create_dictionary_of_word_occurences(x_dataframe, y_dataframe):\n",
        "  spam_words_dict = dict()\n",
        "  ham_words_dict = dict()\n",
        "\n",
        "  column_names = list(x_dataframe.columns)\n",
        "\n",
        "  for word in column_names:\n",
        "    spam_words_dict[word] = 0\n",
        "    ham_words_dict[word] = 0\n",
        "\n",
        "\n",
        "\n",
        "  for word in x_dataframe:\n",
        "    for i, num in enumerate(x_dataframe[word]):\n",
        "\n",
        "      if y_dataframe[\"Prediction\"][i] == 1:\n",
        "        spam_words_dict[word] += num\n",
        "      else : \n",
        "          ham_words_dict[word] += num\n",
        "\n",
        "  return spam_words_dict, ham_words_dict\n",
        "\n"
      ]
    },
    {
      "cell_type": "code",
      "execution_count": 48,
      "metadata": {
        "id": "IGaq3iwg8o6s"
      },
      "outputs": [],
      "source": [
        "def train(x_dataframe, y_dataframe):\n",
        "  spam_words_dict, ham_words_dict = create_dictionary_of_word_occurences(x_train_dataframe, y_train_dataframe)\n",
        "  print(spam_words_dict[\"the\"])\n",
        "  num_spam = y_train_dataframe['Prediction'].value_counts()[1]\n",
        "  num_ham = y_train_dataframe['Prediction'].value_counts()[0]\n",
        "\n",
        "  \n",
        "  #priors\n",
        "  p_spam = num_spam / (num_spam + num_ham)\n",
        "  p_ham = num_ham / (num_spam + num_ham)\n",
        "\n",
        "  tot_spam_words = sum(spam_words_dict.values())\n",
        "  tot_ham_words =sum(ham_words_dict.values())\n",
        "\n",
        "\n",
        "  #likelihoods\n",
        "\n",
        "  for key in spam_words_dict:\n",
        "    spam_words_dict[key] = spam_words_dict[key]/ tot_spam_words\n",
        "  for key in ham_words_dict:\n",
        "    ham_words_dict[key] = ham_words_dict[key]/ tot_ham_words\n",
        "   \n",
        "  return p_spam, p_ham, spam_words_dict, ham_words_dict"
      ]
    },
    {
      "cell_type": "code",
      "execution_count": 49,
      "metadata": {
        "id": "Mn7wtCKFEnvd"
      },
      "outputs": [],
      "source": [
        "def test(p_spam, p_ham, spam_words_likely_dict, ham_words_likely_dict, x_dataframe_test, y_dataframe_test):\n",
        "\n",
        "\n",
        "\n",
        "  column_names = list(x_dataframe_test.columns)\n",
        "  results = np.zeros(y_test_dataframe.shape)\n",
        "\n",
        "  for index, row in x_dataframe_test.iterrows():\n",
        "    #print(f\"Mail {index + 1}:\")\n",
        "    po_spam = np.log(p_spam)\n",
        "    po_ham = np.log(p_ham)\n",
        "\n",
        "    for ind_words, num_of_words in enumerate(row):\n",
        "      for i in range(num_of_words):\n",
        "\n",
        "        po_spam += np.log(spam_words_likely_dict[column_names[ind_words]])\n",
        "        po_ham += np.log(ham_words_likely_dict[column_names[ind_words]])\n",
        "        \n",
        "    results[index] = (po_spam>po_ham)\n",
        "    \n",
        "\n",
        "  return results\n",
        "      \n",
        "        \n"
      ]
    },
    {
      "cell_type": "code",
      "execution_count": 50,
      "metadata": {
        "id": "0Zbhi0R4TKNk",
        "colab": {
          "base_uri": "https://localhost:8080/"
        },
        "outputId": "17053242-0e4b-47d6-f946-0e71d4ffd9f9"
      },
      "outputs": [
        {
          "output_type": "stream",
          "name": "stdout",
          "text": [
            "7711\n"
          ]
        }
      ],
      "source": [
        "a,b,c,d = train(y_train_dataframe, y_train_dataframe)\n"
      ]
    },
    {
      "cell_type": "code",
      "execution_count": 21,
      "metadata": {
        "id": "uaLkj_-DTXYB",
        "colab": {
          "base_uri": "https://localhost:8080/"
        },
        "outputId": "31a2c6ff-8bfd-4408-bbb0-d00cf5ce5574"
      },
      "outputs": [
        {
          "output_type": "stream",
          "name": "stderr",
          "text": [
            "<ipython-input-19-ba83bd72c245>:16: RuntimeWarning: divide by zero encountered in log\n",
            "  po_spam += np.log(spam_words_likely_dict[column_names[ind_words]])\n",
            "<ipython-input-19-ba83bd72c245>:17: RuntimeWarning: divide by zero encountered in log\n",
            "  po_ham += np.log(ham_words_likely_dict[column_names[ind_words]])\n"
          ]
        }
      ],
      "source": [
        "results = test(a,b,c,d,x_test_dataframe, y_test_dataframe)\n"
      ]
    },
    {
      "cell_type": "code",
      "execution_count": 22,
      "metadata": {
        "id": "zsCKQRjrT0bT",
        "colab": {
          "base_uri": "https://localhost:8080/"
        },
        "outputId": "16d4600e-6f43-46eb-b052-4908040a174f"
      },
      "outputs": [
        {
          "output_type": "execute_result",
          "data": {
            "text/plain": [
              "array([[0.],\n",
              "       [0.],\n",
              "       [0.],\n",
              "       ...,\n",
              "       [1.],\n",
              "       [0.],\n",
              "       [1.]])"
            ]
          },
          "metadata": {},
          "execution_count": 22
        }
      ],
      "source": [
        "results"
      ]
    },
    {
      "cell_type": "code",
      "execution_count": 23,
      "metadata": {
        "id": "tFi67_-1UzXQ"
      },
      "outputs": [],
      "source": [
        "def calculate_accuracy(true_array, pred_array):\n",
        "\n",
        "    \n",
        "    num_correct = np.sum(true_array == pred_array)\n",
        "    \n",
        "    num_total = true_array.shape[0]\n",
        "    \n",
        "    accuracy = num_correct / num_total\n",
        "    \n",
        "    return accuracy"
      ]
    },
    {
      "cell_type": "code",
      "execution_count": 24,
      "metadata": {
        "id": "yu-qP3MNU9_O",
        "colab": {
          "base_uri": "https://localhost:8080/"
        },
        "outputId": "ca82072e-b790-465e-fc48-634301e4b802"
      },
      "outputs": [
        {
          "output_type": "execute_result",
          "data": {
            "text/plain": [
              "0.9439613526570049"
            ]
          },
          "metadata": {},
          "execution_count": 24
        }
      ],
      "source": [
        "\n",
        "calculate_accuracy(results, y_test_dataframe.to_numpy())"
      ]
    },
    {
      "cell_type": "code",
      "source": [
        "def train_dl(x_dataframe, y_dataframe):\n",
        "  spam_words_dict, ham_words_dict = create_dictionary_of_word_occurences(x_dataframe, y_dataframe)\n",
        "\n",
        "  spam_words_dict[\"the\"]\n",
        "  num_spam = y_train_dataframe['Prediction'].value_counts()[1]\n",
        "  num_ham = y_train_dataframe['Prediction'].value_counts()[0]\n",
        "\n",
        "  #priors\n",
        "  p_spam = num_spam / (num_spam + num_ham)\n",
        "  p_ham = num_ham / (num_spam + num_ham)\n",
        "\n",
        "  tot_spam_words = sum(spam_words_dict.values())\n",
        "  tot_ham_words =sum(ham_words_dict.values())\n",
        "  \n",
        "  #likelihoods\n",
        "  alpha = 5 # Dirichlet prior of 5\n",
        "  for key in spam_words_dict:\n",
        "    spam_words_dict[key] = (spam_words_dict[key] + alpha) / (tot_spam_words + alpha*len(spam_words_dict))\n",
        "  for key in ham_words_dict:\n",
        "    ham_words_dict[key] = (ham_words_dict[key] + alpha) / (tot_ham_words + alpha*len(spam_words_dict))\n",
        "\n",
        "  return p_spam, p_ham, spam_words_dict, ham_words_dict\n"
      ],
      "metadata": {
        "id": "L-KaeHIU57WB"
      },
      "execution_count": 46,
      "outputs": []
    },
    {
      "cell_type": "code",
      "source": [
        "\n",
        "p_spam_D, p_ham_D, spam_words_dict_D, ham_words_dict_D = train_dl(x_train_dataframe, y_train_dataframe)\n",
        "\n"
      ],
      "metadata": {
        "id": "esSNlsiG8Aw6"
      },
      "execution_count": 51,
      "outputs": []
    },
    {
      "cell_type": "code",
      "source": [
        "results_d = test(p_spam_D, p_ham_D, spam_words_dict_D, ham_words_dict_D,x_test_dataframe, y_test_dataframe)\n"
      ],
      "metadata": {
        "id": "CezRd4Jr8J-D"
      },
      "execution_count": 52,
      "outputs": []
    },
    {
      "cell_type": "code",
      "source": [
        "calculate_accuracy(results_d, y_test_dataframe.to_numpy())"
      ],
      "metadata": {
        "id": "ChR7SmEr8XvB",
        "colab": {
          "base_uri": "https://localhost:8080/"
        },
        "outputId": "912dd5e0-95af-48cd-a629-ec4f7764fb7e"
      },
      "execution_count": 53,
      "outputs": [
        {
          "output_type": "execute_result",
          "data": {
            "text/plain": [
              "0.9478260869565217"
            ]
          },
          "metadata": {},
          "execution_count": 53
        }
      ]
    },
    {
      "cell_type": "code",
      "source": [
        "def create_dictionary_of_word_occurences_bnb(x_dataframe, y_dataframe):\n",
        "  spam_words_dict = dict()\n",
        "  ham_words_dict = dict()\n",
        "  words_dict = dict()\n",
        "\n",
        "  column_names = list(x_dataframe.columns)\n",
        "\n",
        "  for word in column_names:\n",
        "    words_dict[word] = 0\n",
        "    spam_words_dict[word] = 0\n",
        "    ham_words_dict[word] = 0\n",
        "\n",
        "\n",
        "\n",
        "  for word in x_dataframe:\n",
        "    for i, num in enumerate(x_dataframe[word]):\n",
        "\n",
        "      if y_dataframe[\"Prediction\"][i] == 1:\n",
        "        spam_words_dict[word] += num > 0\n",
        "      else : \n",
        "          ham_words_dict[word] += num>0\n",
        "\n",
        "      words_dict[word] += 1\n",
        "  return words_dict, spam_words_dict, ham_words_dict\n",
        "\n"
      ],
      "metadata": {
        "id": "2ZQhNBcgJG8z"
      },
      "execution_count": 54,
      "outputs": []
    },
    {
      "cell_type": "code",
      "source": [
        "def train_bnb(x_dataframe, y_dataframe):\n",
        "  words_dict, spam_words_dict, ham_words_dict = create_dictionary_of_word_occurences_bnb(x_train_dataframe, y_train_dataframe)\n",
        "  y_array = y_train_dataframe.to_numpy()\n",
        "\n",
        "  num_spam = y_train_dataframe['Prediction'].value_counts()[1]\n",
        "  num_ham = y_train_dataframe['Prediction'].value_counts()[0]\n",
        "\n",
        "  \n",
        "  #priors\n",
        "  p_spam = num_spam / (num_spam + num_ham)\n",
        "  p_ham = num_ham / (num_spam + num_ham)\n",
        "\n",
        "  tot_spam_words = sum(spam_words_dict.values())\n",
        "  tot_ham_words =sum(ham_words_dict.values())\n",
        "\n",
        "\n",
        "  #likelihoods\n",
        "\n",
        "  for key in spam_words_dict:\n",
        "    spam_words_dict[key] = spam_words_dict[key]/ num_spam\n",
        "  for key in ham_words_dict:\n",
        "    ham_words_dict[key] = ham_words_dict[key]/ num_spam\n",
        "   \n",
        "  return p_spam, p_ham, spam_words_dict, ham_words_dict"
      ],
      "metadata": {
        "id": "aTEHgf6G_VAN"
      },
      "execution_count": 55,
      "outputs": []
    },
    {
      "cell_type": "code",
      "source": [
        "p_spam_bnb, p_ham_bnb, spam_words_dict_bnb, ham_words_dict_bnb = train_bnb(y_train_dataframe, y_train_dataframe)\n"
      ],
      "metadata": {
        "id": "hKWUrwxN_i0n"
      },
      "execution_count": 56,
      "outputs": []
    },
    {
      "cell_type": "code",
      "source": [
        "results_bnb = test(p_spam_bnb, p_ham_bnb, spam_words_dict_bnb, ham_words_dict_bnb, x_test_dataframe, y_test_dataframe)\n"
      ],
      "metadata": {
        "colab": {
          "base_uri": "https://localhost:8080/"
        },
        "id": "kfnz4Xo-_7u3",
        "outputId": "b31055f9-6a29-4277-e888-510360c39908"
      },
      "execution_count": 57,
      "outputs": [
        {
          "output_type": "stream",
          "name": "stderr",
          "text": [
            "<ipython-input-49-ba83bd72c245>:16: RuntimeWarning: divide by zero encountered in log\n",
            "  po_spam += np.log(spam_words_likely_dict[column_names[ind_words]])\n",
            "<ipython-input-49-ba83bd72c245>:17: RuntimeWarning: divide by zero encountered in log\n",
            "  po_ham += np.log(ham_words_likely_dict[column_names[ind_words]])\n"
          ]
        }
      ]
    },
    {
      "cell_type": "code",
      "source": [
        "calculate_accuracy(results_bnb, y_test_dataframe.to_numpy())"
      ],
      "metadata": {
        "colab": {
          "base_uri": "https://localhost:8080/"
        },
        "id": "1tH_-sZlADMN",
        "outputId": "27c8384e-320e-4b74-b4f4-1a3712fbbf4b"
      },
      "execution_count": 58,
      "outputs": [
        {
          "output_type": "execute_result",
          "data": {
            "text/plain": [
              "0.8405797101449275"
            ]
          },
          "metadata": {},
          "execution_count": 58
        }
      ]
    },
    {
      "cell_type": "code",
      "source": [
        "import seaborn as sns\n",
        "import matplotlib.pyplot as plt\n",
        "\n",
        "def plot_confusion_matrix(y_true, y_pred):\n",
        "    # Create confusion matrix as a NumPy array\n",
        "    labels = np.unique(np.concatenate((y_true, y_pred)))\n",
        "    cm = np.zeros((len(labels), len(labels)))\n",
        "    for i in range(len(y_true)):\n",
        "        true_label_index = np.where(labels == y_true[i])[0][0]\n",
        "        pred_label_index = np.where(labels == y_pred[i])[0][0]\n",
        "        cm[true_label_index][pred_label_index] += 1\n",
        "\n",
        "    # Create Seaborn heatmap of confusion matrix\n",
        "    sns.set()\n",
        "    sns.heatmap(cm, annot=True, fmt='g', cmap='Blues', xticklabels=labels, yticklabels=labels)\n",
        "    plt.xlabel('Predicted labels')\n",
        "    plt.ylabel('True labels')\n",
        "    plt.show()"
      ],
      "metadata": {
        "id": "cCDNm9aVA8zc"
      },
      "execution_count": 59,
      "outputs": []
    },
    {
      "cell_type": "code",
      "source": [
        "\n",
        "\n",
        "plot_confusion_matrix(results_bnb, y_test_dataframe.to_numpy())"
      ],
      "metadata": {
        "colab": {
          "base_uri": "https://localhost:8080/",
          "height": 285
        },
        "id": "ARhyA1ImDQN_",
        "outputId": "75579dbd-9cfc-4c1e-cc37-bacd69a9dbbb"
      },
      "execution_count": 60,
      "outputs": [
        {
          "output_type": "display_data",
          "data": {
            "text/plain": [
              "<Figure size 432x288 with 2 Axes>"
            ],
            "image/png": "[encoded data removed]"
          },
          "metadata": {}
        }
      ]
    },
    {
      "cell_type": "code",
      "source": [
        "plot_confusion_matrix(results_d, y_test_dataframe.to_numpy())\n"
      ],
      "metadata": {
        "colab": {
          "base_uri": "https://localhost:8080/",
          "height": 285
        },
        "id": "qZjeBcEGDW2l",
        "outputId": "a395a713-c20f-41f4-ed8c-45848c585c3e"
      },
      "execution_count": 61,
      "outputs": [
        {
          "output_type": "display_data",
          "data": {
            "text/plain": [
              "<Figure size 432x288 with 2 Axes>"
            ],
            "image/png": "[encoded data removed]"
          },
          "metadata": {}
        }
      ]
    },
    {
      "cell_type": "code",
      "source": [
        "plot_confusion_matrix(results, y_test_dataframe.to_numpy())\n"
      ],
      "metadata": {
        "colab": {
          "base_uri": "https://localhost:8080/",
          "height": 287
        },
        "id": "txQwj3iWDZ-u",
        "outputId": "47cca9c6-9663-4319-86bd-9efbe3b1bc83"
      },
      "execution_count": 62,
      "outputs": [
        {
          "output_type": "display_data",
          "data": {
            "text/plain": [
              "<Figure size 432x288 with 2 Axes>"
            ],
            "image/png": "[encoded data removed]"
          },
          "metadata": {}
        }
      ]
    },
    {
      "cell_type": "code",
      "source": [
        "\n"
      ],
      "metadata": {
        "id": "joBSIJglFMrV"
      },
      "execution_count": 62,
      "outputs": []
    }
  ],
  "metadata": {
    "colab": {
      "provenance": []
    },
    "kernelspec": {
      "display_name": "Python 3",
      "name": "python3"
    },
    "language_info": {
      "name": "python"
    }
  },
  "nbformat": 4,
  "nbformat_minor": 0
}